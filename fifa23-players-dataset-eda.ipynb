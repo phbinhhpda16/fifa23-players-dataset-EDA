{
 "cells": [
  {
   "cell_type": "code",
   "execution_count": 384,
   "metadata": {},
   "outputs": [],
   "source": [
    "#Load libraries"
   ]
  },
  {
   "cell_type": "code",
   "execution_count": 427,
   "metadata": {},
   "outputs": [],
   "source": [
    "import pandas as pd\n",
    "import numpy as np\n",
    "import squarify \n",
    "import matplotlib.pyplot as plt\n",
    "import statsmodels.api as sm\n"
   ]
  },
  {
   "cell_type": "code",
   "execution_count": 386,
   "metadata": {},
   "outputs": [],
   "source": [
    "#Load dataset"
   ]
  },
  {
   "cell_type": "code",
   "execution_count": 387,
   "metadata": {
    "scrolled": true
   },
   "outputs": [
    {
     "data": {
      "text/html": [
       "<div>\n",
       "<style scoped>\n",
       "    .dataframe tbody tr th:only-of-type {\n",
       "        vertical-align: middle;\n",
       "    }\n",
       "\n",
       "    .dataframe tbody tr th {\n",
       "        vertical-align: top;\n",
       "    }\n",
       "\n",
       "    .dataframe thead th {\n",
       "        text-align: right;\n",
       "    }\n",
       "</style>\n",
       "<table border=\"1\" class=\"dataframe\">\n",
       "  <thead>\n",
       "    <tr style=\"text-align: right;\">\n",
       "      <th></th>\n",
       "      <th>Known As</th>\n",
       "      <th>Full Name</th>\n",
       "      <th>Overall</th>\n",
       "      <th>Potential</th>\n",
       "      <th>Value(in Euro)</th>\n",
       "      <th>Positions Played</th>\n",
       "      <th>Best Position</th>\n",
       "      <th>Nationality</th>\n",
       "      <th>Image Link</th>\n",
       "      <th>Age</th>\n",
       "      <th>...</th>\n",
       "      <th>LM Rating</th>\n",
       "      <th>CM Rating</th>\n",
       "      <th>RM Rating</th>\n",
       "      <th>LWB Rating</th>\n",
       "      <th>CDM Rating</th>\n",
       "      <th>RWB Rating</th>\n",
       "      <th>LB Rating</th>\n",
       "      <th>CB Rating</th>\n",
       "      <th>RB Rating</th>\n",
       "      <th>GK Rating</th>\n",
       "    </tr>\n",
       "  </thead>\n",
       "  <tbody>\n",
       "    <tr>\n",
       "      <th>0</th>\n",
       "      <td>L. Messi</td>\n",
       "      <td>Lionel Messi</td>\n",
       "      <td>91</td>\n",
       "      <td>91</td>\n",
       "      <td>54000000</td>\n",
       "      <td>RW</td>\n",
       "      <td>CAM</td>\n",
       "      <td>Argentina</td>\n",
       "      <td>https://cdn.sofifa.net/players/158/023/23_60.png</td>\n",
       "      <td>35</td>\n",
       "      <td>...</td>\n",
       "      <td>91</td>\n",
       "      <td>88</td>\n",
       "      <td>91</td>\n",
       "      <td>67</td>\n",
       "      <td>66</td>\n",
       "      <td>67</td>\n",
       "      <td>62</td>\n",
       "      <td>53</td>\n",
       "      <td>62</td>\n",
       "      <td>22</td>\n",
       "    </tr>\n",
       "    <tr>\n",
       "      <th>1</th>\n",
       "      <td>K. Benzema</td>\n",
       "      <td>Karim Benzema</td>\n",
       "      <td>91</td>\n",
       "      <td>91</td>\n",
       "      <td>64000000</td>\n",
       "      <td>CF,ST</td>\n",
       "      <td>CF</td>\n",
       "      <td>France</td>\n",
       "      <td>https://cdn.sofifa.net/players/165/153/23_60.png</td>\n",
       "      <td>34</td>\n",
       "      <td>...</td>\n",
       "      <td>89</td>\n",
       "      <td>84</td>\n",
       "      <td>89</td>\n",
       "      <td>67</td>\n",
       "      <td>67</td>\n",
       "      <td>67</td>\n",
       "      <td>63</td>\n",
       "      <td>58</td>\n",
       "      <td>63</td>\n",
       "      <td>21</td>\n",
       "    </tr>\n",
       "    <tr>\n",
       "      <th>2</th>\n",
       "      <td>R. Lewandowski</td>\n",
       "      <td>Robert Lewandowski</td>\n",
       "      <td>91</td>\n",
       "      <td>91</td>\n",
       "      <td>84000000</td>\n",
       "      <td>ST</td>\n",
       "      <td>ST</td>\n",
       "      <td>Poland</td>\n",
       "      <td>https://cdn.sofifa.net/players/188/545/23_60.png</td>\n",
       "      <td>33</td>\n",
       "      <td>...</td>\n",
       "      <td>86</td>\n",
       "      <td>83</td>\n",
       "      <td>86</td>\n",
       "      <td>67</td>\n",
       "      <td>69</td>\n",
       "      <td>67</td>\n",
       "      <td>64</td>\n",
       "      <td>63</td>\n",
       "      <td>64</td>\n",
       "      <td>22</td>\n",
       "    </tr>\n",
       "    <tr>\n",
       "      <th>3</th>\n",
       "      <td>K. De Bruyne</td>\n",
       "      <td>Kevin De Bruyne</td>\n",
       "      <td>91</td>\n",
       "      <td>91</td>\n",
       "      <td>107500000</td>\n",
       "      <td>CM,CAM</td>\n",
       "      <td>CM</td>\n",
       "      <td>Belgium</td>\n",
       "      <td>https://cdn.sofifa.net/players/192/985/23_60.png</td>\n",
       "      <td>31</td>\n",
       "      <td>...</td>\n",
       "      <td>91</td>\n",
       "      <td>91</td>\n",
       "      <td>91</td>\n",
       "      <td>82</td>\n",
       "      <td>82</td>\n",
       "      <td>82</td>\n",
       "      <td>78</td>\n",
       "      <td>72</td>\n",
       "      <td>78</td>\n",
       "      <td>24</td>\n",
       "    </tr>\n",
       "    <tr>\n",
       "      <th>4</th>\n",
       "      <td>K. Mbappé</td>\n",
       "      <td>Kylian Mbappé</td>\n",
       "      <td>91</td>\n",
       "      <td>95</td>\n",
       "      <td>190500000</td>\n",
       "      <td>ST,LW</td>\n",
       "      <td>ST</td>\n",
       "      <td>France</td>\n",
       "      <td>https://cdn.sofifa.net/players/231/747/23_60.png</td>\n",
       "      <td>23</td>\n",
       "      <td>...</td>\n",
       "      <td>92</td>\n",
       "      <td>84</td>\n",
       "      <td>92</td>\n",
       "      <td>70</td>\n",
       "      <td>66</td>\n",
       "      <td>70</td>\n",
       "      <td>66</td>\n",
       "      <td>57</td>\n",
       "      <td>66</td>\n",
       "      <td>21</td>\n",
       "    </tr>\n",
       "  </tbody>\n",
       "</table>\n",
       "<p>5 rows × 89 columns</p>\n",
       "</div>"
      ],
      "text/plain": [
       "         Known As           Full Name  Overall  Potential  Value(in Euro)  \\\n",
       "0        L. Messi        Lionel Messi       91         91        54000000   \n",
       "1      K. Benzema       Karim Benzema       91         91        64000000   \n",
       "2  R. Lewandowski  Robert Lewandowski       91         91        84000000   \n",
       "3    K. De Bruyne     Kevin De Bruyne       91         91       107500000   \n",
       "4       K. Mbappé       Kylian Mbappé       91         95       190500000   \n",
       "\n",
       "  Positions Played Best Position Nationality  \\\n",
       "0               RW           CAM   Argentina   \n",
       "1            CF,ST            CF      France   \n",
       "2               ST            ST      Poland   \n",
       "3           CM,CAM            CM     Belgium   \n",
       "4            ST,LW            ST      France   \n",
       "\n",
       "                                         Image Link  Age  ...  LM Rating  \\\n",
       "0  https://cdn.sofifa.net/players/158/023/23_60.png   35  ...         91   \n",
       "1  https://cdn.sofifa.net/players/165/153/23_60.png   34  ...         89   \n",
       "2  https://cdn.sofifa.net/players/188/545/23_60.png   33  ...         86   \n",
       "3  https://cdn.sofifa.net/players/192/985/23_60.png   31  ...         91   \n",
       "4  https://cdn.sofifa.net/players/231/747/23_60.png   23  ...         92   \n",
       "\n",
       "   CM Rating  RM Rating  LWB Rating CDM Rating  RWB Rating  LB Rating  \\\n",
       "0         88         91          67         66          67         62   \n",
       "1         84         89          67         67          67         63   \n",
       "2         83         86          67         69          67         64   \n",
       "3         91         91          82         82          82         78   \n",
       "4         84         92          70         66          70         66   \n",
       "\n",
       "  CB Rating RB Rating GK Rating  \n",
       "0        53        62        22  \n",
       "1        58        63        21  \n",
       "2        63        64        22  \n",
       "3        72        78        24  \n",
       "4        57        66        21  \n",
       "\n",
       "[5 rows x 89 columns]"
      ]
     },
     "execution_count": 387,
     "metadata": {},
     "output_type": "execute_result"
    }
   ],
   "source": [
    "df = pd.read_csv('\\\\Fifa_23_Players_Data.csv')\n",
    "df.head()"
   ]
  },
  {
   "cell_type": "code",
   "execution_count": 388,
   "metadata": {},
   "outputs": [],
   "source": [
    "#CLEANING DATA"
   ]
  },
  {
   "cell_type": "code",
   "execution_count": 389,
   "metadata": {},
   "outputs": [],
   "source": [
    "#Remove unneccesary columns"
   ]
  },
  {
   "cell_type": "code",
   "execution_count": 390,
   "metadata": {},
   "outputs": [
    {
     "data": {
      "text/plain": [
       "Index(['Known As', 'Full Name', 'Overall', 'Potential', 'Value(in Euro)',\n",
       "       'Positions Played', 'Best Position', 'Nationality', 'Image Link', 'Age',\n",
       "       'Height(in cm)', 'Weight(in kg)', 'TotalStats', 'BaseStats',\n",
       "       'Club Name', 'Wage(in Euro)', 'Release Clause', 'Club Position',\n",
       "       'Contract Until', 'Club Jersey Number', 'Joined On', 'On Loan',\n",
       "       'Preferred Foot', 'Weak Foot Rating', 'Skill Moves',\n",
       "       'International Reputation', 'National Team Name',\n",
       "       'National Team Image Link', 'National Team Position',\n",
       "       'National Team Jersey Number', 'Attacking Work Rate',\n",
       "       'Defensive Work Rate', 'Pace Total', 'Shooting Total', 'Passing Total',\n",
       "       'Dribbling Total', 'Defending Total', 'Physicality Total', 'Crossing',\n",
       "       'Finishing', 'Heading Accuracy', 'Short Passing', 'Volleys',\n",
       "       'Dribbling', 'Curve', 'Freekick Accuracy', 'LongPassing', 'BallControl',\n",
       "       'Acceleration', 'Sprint Speed', 'Agility', 'Reactions', 'Balance',\n",
       "       'Shot Power', 'Jumping', 'Stamina', 'Strength', 'Long Shots',\n",
       "       'Aggression', 'Interceptions', 'Positioning', 'Vision', 'Penalties',\n",
       "       'Composure', 'Marking', 'Standing Tackle', 'Sliding Tackle',\n",
       "       'Goalkeeper Diving', 'Goalkeeper Handling', ' GoalkeeperKicking',\n",
       "       'Goalkeeper Positioning', 'Goalkeeper Reflexes', 'ST Rating',\n",
       "       'LW Rating', 'LF Rating', 'CF Rating', 'RF Rating', 'RW Rating',\n",
       "       'CAM Rating', 'LM Rating', 'CM Rating', 'RM Rating', 'LWB Rating',\n",
       "       'CDM Rating', 'RWB Rating', 'LB Rating', 'CB Rating', 'RB Rating',\n",
       "       'GK Rating'],\n",
       "      dtype='object')"
      ]
     },
     "execution_count": 390,
     "metadata": {},
     "output_type": "execute_result"
    }
   ],
   "source": [
    "df.columns"
   ]
  },
  {
   "cell_type": "code",
   "execution_count": 391,
   "metadata": {},
   "outputs": [],
   "source": [
    "columns = ['Known As', 'Full Name', 'Overall', 'Potential', 'Value(in Euro)','Positions Played', 'Best Position', 'Nationality', 'Age', 'Height(in cm)', 'Weight(in kg)', 'Club Name', 'Wage(in Euro)', 'Release Clause', 'Club Position', 'Contract Until',  'Preferred Foot', 'Weak Foot Rating', 'Skill Moves']\n",
    "data = df[columns]"
   ]
  },
  {
   "cell_type": "code",
   "execution_count": 392,
   "metadata": {},
   "outputs": [],
   "source": [
    "#Cleaning empty cells"
   ]
  },
  {
   "cell_type": "code",
   "execution_count": 393,
   "metadata": {},
   "outputs": [
    {
     "data": {
      "text/plain": [
       "Known As            False\n",
       "Full Name           False\n",
       "Overall             False\n",
       "Potential           False\n",
       "Value(in Euro)      False\n",
       "Positions Played    False\n",
       "Best Position       False\n",
       "Nationality         False\n",
       "Age                 False\n",
       "Height(in cm)       False\n",
       "Weight(in kg)       False\n",
       "Club Name           False\n",
       "Wage(in Euro)       False\n",
       "Release Clause      False\n",
       "Club Position       False\n",
       "Contract Until      False\n",
       "Preferred Foot      False\n",
       "Weak Foot Rating    False\n",
       "Skill Moves         False\n",
       "dtype: bool"
      ]
     },
     "execution_count": 393,
     "metadata": {},
     "output_type": "execute_result"
    }
   ],
   "source": [
    "data.isna().any()"
   ]
  },
  {
   "cell_type": "code",
   "execution_count": 394,
   "metadata": {},
   "outputs": [
    {
     "name": "stderr",
     "output_type": "stream",
     "text": [
      "C:\\Users\\phbin\\AppData\\Local\\Temp\\ipykernel_7308\\2767844944.py:1: SettingWithCopyWarning: \n",
      "A value is trying to be set on a copy of a slice from a DataFrame.\n",
      "Try using .loc[row_indexer,col_indexer] = value instead\n",
      "\n",
      "See the caveats in the documentation: https://pandas.pydata.org/pandas-docs/stable/user_guide/indexing.html#returning-a-view-versus-a-copy\n",
      "  data[\"Value(in million Euro)\"] = data[\"Value(in Euro)\"] / 1000000\n",
      "C:\\Users\\phbin\\AppData\\Local\\Temp\\ipykernel_7308\\2767844944.py:2: SettingWithCopyWarning: \n",
      "A value is trying to be set on a copy of a slice from a DataFrame.\n",
      "Try using .loc[row_indexer,col_indexer] = value instead\n",
      "\n",
      "See the caveats in the documentation: https://pandas.pydata.org/pandas-docs/stable/user_guide/indexing.html#returning-a-view-versus-a-copy\n",
      "  data[\"Wage(in thousand Euro)\"] = data[\"Wage(in Euro)\"] / 1000\n",
      "C:\\Users\\phbin\\AppData\\Local\\Temp\\ipykernel_7308\\2767844944.py:3: SettingWithCopyWarning: \n",
      "A value is trying to be set on a copy of a slice from a DataFrame.\n",
      "Try using .loc[row_indexer,col_indexer] = value instead\n",
      "\n",
      "See the caveats in the documentation: https://pandas.pydata.org/pandas-docs/stable/user_guide/indexing.html#returning-a-view-versus-a-copy\n",
      "  data[\"Release Clause in million Euro\"] = data[\"Release Clause\"] / 1000000\n"
     ]
    }
   ],
   "source": [
    "data[\"Value(in million Euro)\"] = data[\"Value(in Euro)\"] / 1000000\n",
    "data[\"Wage(in thousand Euro)\"] = data[\"Wage(in Euro)\"] / 1000\n",
    "data[\"Release Clause in million Euro\"] = data[\"Release Clause\"] / 1000000"
   ]
  },
  {
   "cell_type": "code",
   "execution_count": 395,
   "metadata": {},
   "outputs": [
    {
     "data": {
      "text/plain": [
       "count    17529.000000\n",
       "mean         2.931541\n",
       "std          7.816143\n",
       "min          0.000000\n",
       "25%          0.500000\n",
       "50%          1.000000\n",
       "75%          2.000000\n",
       "max        190.500000\n",
       "Name: Value(in million Euro), dtype: float64"
      ]
     },
     "execution_count": 395,
     "metadata": {},
     "output_type": "execute_result"
    }
   ],
   "source": [
    "data[\"Value(in million Euro)\"].describe()"
   ]
  },
  {
   "cell_type": "code",
   "execution_count": 396,
   "metadata": {},
   "outputs": [
    {
     "name": "stderr",
     "output_type": "stream",
     "text": [
      "C:\\Users\\phbin\\AppData\\Local\\Temp\\ipykernel_7308\\897935632.py:1: SettingWithCopyWarning: \n",
      "A value is trying to be set on a copy of a slice from a DataFrame\n",
      "\n",
      "See the caveats in the documentation: https://pandas.pydata.org/pandas-docs/stable/user_guide/indexing.html#returning-a-view-versus-a-copy\n",
      "  data[\"Value(in million Euro)\"].fillna(data[\"Value(in million Euro)\"].median(), inplace= True)\n"
     ]
    }
   ],
   "source": [
    "data[\"Value(in million Euro)\"].fillna(data[\"Value(in million Euro)\"].median(), inplace= True)"
   ]
  },
  {
   "cell_type": "code",
   "execution_count": 397,
   "metadata": {},
   "outputs": [
    {
     "data": {
      "text/plain": [
       "count    17529.000000\n",
       "mean         9.006943\n",
       "std         19.851989\n",
       "min          0.000000\n",
       "25%          1.000000\n",
       "50%          3.000000\n",
       "75%          8.000000\n",
       "max        450.000000\n",
       "Name: Wage(in thousand Euro), dtype: float64"
      ]
     },
     "execution_count": 397,
     "metadata": {},
     "output_type": "execute_result"
    }
   ],
   "source": [
    "data[\"Wage(in thousand Euro)\"].describe()\n"
   ]
  },
  {
   "cell_type": "code",
   "execution_count": 398,
   "metadata": {},
   "outputs": [
    {
     "name": "stderr",
     "output_type": "stream",
     "text": [
      "C:\\Users\\phbin\\AppData\\Local\\Temp\\ipykernel_7308\\291098562.py:1: SettingWithCopyWarning: \n",
      "A value is trying to be set on a copy of a slice from a DataFrame\n",
      "\n",
      "See the caveats in the documentation: https://pandas.pydata.org/pandas-docs/stable/user_guide/indexing.html#returning-a-view-versus-a-copy\n",
      "  data[\"Wage(in thousand Euro)\"].fillna(data[\"Wage(in thousand Euro)\"].median(), inplace= True)\n"
     ]
    }
   ],
   "source": [
    "data[\"Wage(in thousand Euro)\"].fillna(data[\"Wage(in thousand Euro)\"].median(), inplace= True)"
   ]
  },
  {
   "cell_type": "code",
   "execution_count": 399,
   "metadata": {},
   "outputs": [
    {
     "data": {
      "text/plain": [
       "count    17529.000000\n",
       "mean         5.171944\n",
       "std         15.016280\n",
       "min          0.000000\n",
       "25%          0.674000\n",
       "50%          1.500000\n",
       "75%          3.400000\n",
       "max        366.700000\n",
       "Name: Release Clause in million Euro, dtype: float64"
      ]
     },
     "execution_count": 399,
     "metadata": {},
     "output_type": "execute_result"
    }
   ],
   "source": [
    "data[\"Release Clause in million Euro\"].describe()"
   ]
  },
  {
   "cell_type": "code",
   "execution_count": 400,
   "metadata": {},
   "outputs": [
    {
     "name": "stderr",
     "output_type": "stream",
     "text": [
      "C:\\Users\\phbin\\AppData\\Local\\Temp\\ipykernel_7308\\4018272219.py:1: SettingWithCopyWarning: \n",
      "A value is trying to be set on a copy of a slice from a DataFrame\n",
      "\n",
      "See the caveats in the documentation: https://pandas.pydata.org/pandas-docs/stable/user_guide/indexing.html#returning-a-view-versus-a-copy\n",
      "  data[\"Release Clause in million Euro\"].fillna(data[\"Release Clause in million Euro\"].median(), inplace= True)\n"
     ]
    }
   ],
   "source": [
    "data[\"Release Clause in million Euro\"].fillna(data[\"Release Clause in million Euro\"].median(), inplace= True)\n",
    "\n"
   ]
  },
  {
   "cell_type": "code",
   "execution_count": 401,
   "metadata": {},
   "outputs": [],
   "source": [
    "#Cleaning wrong format"
   ]
  },
  {
   "cell_type": "code",
   "execution_count": 402,
   "metadata": {},
   "outputs": [
    {
     "name": "stdout",
     "output_type": "stream",
     "text": [
      "<class 'pandas.core.frame.DataFrame'>\n",
      "RangeIndex: 17529 entries, 0 to 17528\n",
      "Data columns (total 22 columns):\n",
      " #   Column                          Non-Null Count  Dtype  \n",
      "---  ------                          --------------  -----  \n",
      " 0   Known As                        17529 non-null  object \n",
      " 1   Full Name                       17529 non-null  object \n",
      " 2   Overall                         17529 non-null  int64  \n",
      " 3   Potential                       17529 non-null  int64  \n",
      " 4   Value(in Euro)                  17529 non-null  int64  \n",
      " 5   Positions Played                17529 non-null  object \n",
      " 6   Best Position                   17529 non-null  object \n",
      " 7   Nationality                     17529 non-null  object \n",
      " 8   Age                             17529 non-null  int64  \n",
      " 9   Height(in cm)                   17529 non-null  int64  \n",
      " 10  Weight(in kg)                   17529 non-null  int64  \n",
      " 11  Club Name                       17529 non-null  object \n",
      " 12  Wage(in Euro)                   17529 non-null  int64  \n",
      " 13  Release Clause                  17529 non-null  int64  \n",
      " 14  Club Position                   17529 non-null  object \n",
      " 15  Contract Until                  17529 non-null  object \n",
      " 16  Preferred Foot                  17529 non-null  object \n",
      " 17  Weak Foot Rating                17529 non-null  int64  \n",
      " 18  Skill Moves                     17529 non-null  int64  \n",
      " 19  Value(in million Euro)          17529 non-null  float64\n",
      " 20  Wage(in thousand Euro)          17529 non-null  float64\n",
      " 21  Release Clause in million Euro  17529 non-null  float64\n",
      "dtypes: float64(3), int64(10), object(9)\n",
      "memory usage: 2.9+ MB\n"
     ]
    }
   ],
   "source": [
    "data.info()"
   ]
  },
  {
   "cell_type": "code",
   "execution_count": 403,
   "metadata": {},
   "outputs": [
    {
     "name": "stdout",
     "output_type": "stream",
     "text": [
      "['2023' '2025' '2024' '2026' '2027' '2022' '2028' '-' '2031' '2032']\n"
     ]
    }
   ],
   "source": [
    "print(data[\"Contract Until\"].unique())"
   ]
  },
  {
   "cell_type": "code",
   "execution_count": 404,
   "metadata": {},
   "outputs": [
    {
     "name": "stdout",
     "output_type": "stream",
     "text": [
      "['2023' '2025' '2024' '2026' '2027' '2022' '2028' '0' '2031' '2032']\n"
     ]
    }
   ],
   "source": [
    "data = data.replace('-', '0')\n",
    "print(data[\"Contract Until\"].unique())\n",
    "\n"
   ]
  },
  {
   "cell_type": "code",
   "execution_count": 405,
   "metadata": {},
   "outputs": [
    {
     "name": "stdout",
     "output_type": "stream",
     "text": [
      "int32\n"
     ]
    }
   ],
   "source": [
    "data[\"Contract Until\"] = data[\"Contract Until\"].astype(int)\n",
    "data = data.replace(0, int(data[\"Contract Until\"].mean()))\n",
    "print(data[\"Contract Until\"].dtype)"
   ]
  },
  {
   "cell_type": "code",
   "execution_count": 406,
   "metadata": {},
   "outputs": [],
   "source": [
    "#Remove duplicated rows"
   ]
  },
  {
   "cell_type": "code",
   "execution_count": 407,
   "metadata": {},
   "outputs": [
    {
     "data": {
      "text/html": [
       "<div>\n",
       "<style scoped>\n",
       "    .dataframe tbody tr th:only-of-type {\n",
       "        vertical-align: middle;\n",
       "    }\n",
       "\n",
       "    .dataframe tbody tr th {\n",
       "        vertical-align: top;\n",
       "    }\n",
       "\n",
       "    .dataframe thead th {\n",
       "        text-align: right;\n",
       "    }\n",
       "</style>\n",
       "<table border=\"1\" class=\"dataframe\">\n",
       "  <thead>\n",
       "    <tr style=\"text-align: right;\">\n",
       "      <th></th>\n",
       "      <th>Known As</th>\n",
       "      <th>Full Name</th>\n",
       "      <th>Overall</th>\n",
       "      <th>Potential</th>\n",
       "      <th>Value(in Euro)</th>\n",
       "      <th>Positions Played</th>\n",
       "      <th>Best Position</th>\n",
       "      <th>Nationality</th>\n",
       "      <th>Age</th>\n",
       "      <th>Height(in cm)</th>\n",
       "      <th>...</th>\n",
       "      <th>Wage(in Euro)</th>\n",
       "      <th>Release Clause</th>\n",
       "      <th>Club Position</th>\n",
       "      <th>Contract Until</th>\n",
       "      <th>Preferred Foot</th>\n",
       "      <th>Weak Foot Rating</th>\n",
       "      <th>Skill Moves</th>\n",
       "      <th>Value(in million Euro)</th>\n",
       "      <th>Wage(in thousand Euro)</th>\n",
       "      <th>Release Clause in million Euro</th>\n",
       "    </tr>\n",
       "  </thead>\n",
       "  <tbody>\n",
       "  </tbody>\n",
       "</table>\n",
       "<p>0 rows × 22 columns</p>\n",
       "</div>"
      ],
      "text/plain": [
       "Empty DataFrame\n",
       "Columns: [Known As, Full Name, Overall, Potential, Value(in Euro), Positions Played, Best Position, Nationality, Age, Height(in cm), Weight(in kg), Club Name, Wage(in Euro), Release Clause, Club Position, Contract Until, Preferred Foot, Weak Foot Rating, Skill Moves, Value(in million Euro), Wage(in thousand Euro), Release Clause in million Euro]\n",
       "Index: []\n",
       "\n",
       "[0 rows x 22 columns]"
      ]
     },
     "execution_count": 407,
     "metadata": {},
     "output_type": "execute_result"
    }
   ],
   "source": [
    "data[data.duplicated()]"
   ]
  },
  {
   "cell_type": "code",
   "execution_count": 408,
   "metadata": {},
   "outputs": [],
   "source": [
    "#No duplicated rows"
   ]
  },
  {
   "cell_type": "code",
   "execution_count": 409,
   "metadata": {},
   "outputs": [],
   "source": [
    "#DATA ANALYSIS"
   ]
  },
  {
   "cell_type": "code",
   "execution_count": 410,
   "metadata": {},
   "outputs": [
    {
     "data": {
      "text/html": [
       "<div>\n",
       "<style scoped>\n",
       "    .dataframe tbody tr th:only-of-type {\n",
       "        vertical-align: middle;\n",
       "    }\n",
       "\n",
       "    .dataframe tbody tr th {\n",
       "        vertical-align: top;\n",
       "    }\n",
       "\n",
       "    .dataframe thead th {\n",
       "        text-align: right;\n",
       "    }\n",
       "</style>\n",
       "<table border=\"1\" class=\"dataframe\">\n",
       "  <thead>\n",
       "    <tr style=\"text-align: right;\">\n",
       "      <th></th>\n",
       "      <th>Full Name</th>\n",
       "      <th>Overall</th>\n",
       "    </tr>\n",
       "  </thead>\n",
       "  <tbody>\n",
       "    <tr>\n",
       "      <th>0</th>\n",
       "      <td>Lionel Messi</td>\n",
       "      <td>91</td>\n",
       "    </tr>\n",
       "    <tr>\n",
       "      <th>2</th>\n",
       "      <td>Robert Lewandowski</td>\n",
       "      <td>91</td>\n",
       "    </tr>\n",
       "    <tr>\n",
       "      <th>3</th>\n",
       "      <td>Kevin De Bruyne</td>\n",
       "      <td>91</td>\n",
       "    </tr>\n",
       "    <tr>\n",
       "      <th>4</th>\n",
       "      <td>Kylian Mbappé</td>\n",
       "      <td>91</td>\n",
       "    </tr>\n",
       "    <tr>\n",
       "      <th>1</th>\n",
       "      <td>Karim Benzema</td>\n",
       "      <td>91</td>\n",
       "    </tr>\n",
       "    <tr>\n",
       "      <th>5</th>\n",
       "      <td>Mohamed Salah</td>\n",
       "      <td>90</td>\n",
       "    </tr>\n",
       "    <tr>\n",
       "      <th>6</th>\n",
       "      <td>Thibaut Courtois</td>\n",
       "      <td>90</td>\n",
       "    </tr>\n",
       "    <tr>\n",
       "      <th>7</th>\n",
       "      <td>Manuel Neuer</td>\n",
       "      <td>90</td>\n",
       "    </tr>\n",
       "    <tr>\n",
       "      <th>8</th>\n",
       "      <td>C. Ronaldo dos Santos Aveiro</td>\n",
       "      <td>90</td>\n",
       "    </tr>\n",
       "    <tr>\n",
       "      <th>9</th>\n",
       "      <td>Virgil van Dijk</td>\n",
       "      <td>90</td>\n",
       "    </tr>\n",
       "  </tbody>\n",
       "</table>\n",
       "</div>"
      ],
      "text/plain": [
       "                      Full Name  Overall\n",
       "0                  Lionel Messi       91\n",
       "2            Robert Lewandowski       91\n",
       "3               Kevin De Bruyne       91\n",
       "4                 Kylian Mbappé       91\n",
       "1                 Karim Benzema       91\n",
       "5                 Mohamed Salah       90\n",
       "6              Thibaut Courtois       90\n",
       "7                  Manuel Neuer       90\n",
       "8  C. Ronaldo dos Santos Aveiro       90\n",
       "9               Virgil van Dijk       90"
      ]
     },
     "execution_count": 410,
     "metadata": {},
     "output_type": "execute_result"
    }
   ],
   "source": [
    "data.sort_values(\"Overall\", ascending= False)[[\"Full Name\", \"Overall\"]].head(10)"
   ]
  },
  {
   "cell_type": "code",
   "execution_count": 411,
   "metadata": {},
   "outputs": [
    {
     "data": {
      "image/png": "[encoded data removed]",
      "text/plain": [
       "<Figure size 432x288 with 1 Axes>"
      ]
     },
     "metadata": {
      "needs_background": "light"
     },
     "output_type": "display_data"
    }
   ],
   "source": [
    "highest_overall = data[\"Overall\"].max()\n",
    "players_highest_overall = '\\n'.join(data[data[\"Overall\"] == highest_overall][\"Full Name\"].tolist())\n",
    "\n",
    "plt.hist(data['Overall'], bins=25)\n",
    "plt.xlabel('Overall')\n",
    "plt.ylabel('Total')\n",
    "plt.title('Distribution of Overall Ratings')\n",
    "plt.annotate(players_highest_overall, xy = (highest_overall, 0), xytext = (highest_overall, 400), arrowprops = dict(facecolor ='green'))\n",
    "plt.show()"
   ]
  },
  {
   "cell_type": "code",
   "execution_count": 412,
   "metadata": {},
   "outputs": [
    {
     "data": {
      "text/html": [
       "<div>\n",
       "<style scoped>\n",
       "    .dataframe tbody tr th:only-of-type {\n",
       "        vertical-align: middle;\n",
       "    }\n",
       "\n",
       "    .dataframe tbody tr th {\n",
       "        vertical-align: top;\n",
       "    }\n",
       "\n",
       "    .dataframe thead th {\n",
       "        text-align: right;\n",
       "    }\n",
       "</style>\n",
       "<table border=\"1\" class=\"dataframe\">\n",
       "  <thead>\n",
       "    <tr style=\"text-align: right;\">\n",
       "      <th></th>\n",
       "      <th>Full Name</th>\n",
       "      <th>Potential</th>\n",
       "    </tr>\n",
       "  </thead>\n",
       "  <tbody>\n",
       "    <tr>\n",
       "      <th>4</th>\n",
       "      <td>Kylian Mbappé</td>\n",
       "      <td>95</td>\n",
       "    </tr>\n",
       "    <tr>\n",
       "      <th>21</th>\n",
       "      <td>Erling Haaland</td>\n",
       "      <td>94</td>\n",
       "    </tr>\n",
       "    <tr>\n",
       "      <th>82</th>\n",
       "      <td>Pedro González López</td>\n",
       "      <td>93</td>\n",
       "    </tr>\n",
       "    <tr>\n",
       "      <th>83</th>\n",
       "      <td>Phil Foden</td>\n",
       "      <td>92</td>\n",
       "    </tr>\n",
       "    <tr>\n",
       "      <th>63</th>\n",
       "      <td>Vinícius José de Oliveira Júnior</td>\n",
       "      <td>92</td>\n",
       "    </tr>\n",
       "    <tr>\n",
       "      <th>42</th>\n",
       "      <td>Frenkie de Jong</td>\n",
       "      <td>92</td>\n",
       "    </tr>\n",
       "    <tr>\n",
       "      <th>22</th>\n",
       "      <td>Gianluigi Donnarumma</td>\n",
       "      <td>92</td>\n",
       "    </tr>\n",
       "    <tr>\n",
       "      <th>0</th>\n",
       "      <td>Lionel Messi</td>\n",
       "      <td>91</td>\n",
       "    </tr>\n",
       "    <tr>\n",
       "      <th>16</th>\n",
       "      <td>Ederson Santana de Moraes</td>\n",
       "      <td>91</td>\n",
       "    </tr>\n",
       "    <tr>\n",
       "      <th>127</th>\n",
       "      <td>Jamie Tartt</td>\n",
       "      <td>91</td>\n",
       "    </tr>\n",
       "  </tbody>\n",
       "</table>\n",
       "</div>"
      ],
      "text/plain": [
       "                            Full Name  Potential\n",
       "4                       Kylian Mbappé         95\n",
       "21                     Erling Haaland         94\n",
       "82               Pedro González López         93\n",
       "83                         Phil Foden         92\n",
       "63   Vinícius José de Oliveira Júnior         92\n",
       "42                    Frenkie de Jong         92\n",
       "22               Gianluigi Donnarumma         92\n",
       "0                        Lionel Messi         91\n",
       "16          Ederson Santana de Moraes         91\n",
       "127                       Jamie Tartt         91"
      ]
     },
     "execution_count": 412,
     "metadata": {},
     "output_type": "execute_result"
    }
   ],
   "source": [
    "data.sort_values(\"Potential\", ascending = False)[[\"Full Name\", \"Potential\"]].head(10)"
   ]
  },
  {
   "cell_type": "code",
   "execution_count": 413,
   "metadata": {},
   "outputs": [
    {
     "data": {
      "image/png": "[encoded data removed]",
      "text/plain": [
       "<Figure size 432x288 with 1 Axes>"
      ]
     },
     "metadata": {
      "needs_background": "light"
     },
     "output_type": "display_data"
    }
   ],
   "source": [
    "highest_potential = data[\"Potential\"].max()\n",
    "players_highest_potential = '\\n'.join(data[data[\"Potential\"] == highest_potential][\"Full Name\"].tolist())\n",
    "\n",
    "plt.hist(data[\"Potential\"], bins = 25)\n",
    "plt.xlabel(\"Potentials\")\n",
    "plt.ylabel(\"Total\")\n",
    "plt.title('Distribution of Potential Ratings')\n",
    "plt.annotate(players_highest_potential, xy = (highest_potential, 0), xytext = (highest_overall, 300), arrowprops=dict(facecolor = 'green'))\n",
    "\n",
    "plt.show()"
   ]
  },
  {
   "cell_type": "code",
   "execution_count": 414,
   "metadata": {},
   "outputs": [
    {
     "data": {
      "text/html": [
       "<div>\n",
       "<style scoped>\n",
       "    .dataframe tbody tr th:only-of-type {\n",
       "        vertical-align: middle;\n",
       "    }\n",
       "\n",
       "    .dataframe tbody tr th {\n",
       "        vertical-align: top;\n",
       "    }\n",
       "\n",
       "    .dataframe thead th {\n",
       "        text-align: right;\n",
       "    }\n",
       "</style>\n",
       "<table border=\"1\" class=\"dataframe\">\n",
       "  <thead>\n",
       "    <tr style=\"text-align: right;\">\n",
       "      <th></th>\n",
       "      <th>Overall</th>\n",
       "      <th>Potential</th>\n",
       "      <th>Best Overall Players</th>\n",
       "      <th>Best Potential Players</th>\n",
       "    </tr>\n",
       "    <tr>\n",
       "      <th>Best Position</th>\n",
       "      <th></th>\n",
       "      <th></th>\n",
       "      <th></th>\n",
       "      <th></th>\n",
       "    </tr>\n",
       "  </thead>\n",
       "  <tbody>\n",
       "    <tr>\n",
       "      <th>GK</th>\n",
       "      <td>90</td>\n",
       "      <td>92</td>\n",
       "      <td>Thibaut Courtois, Manuel Neuer</td>\n",
       "      <td>Gianluigi Donnarumma</td>\n",
       "    </tr>\n",
       "    <tr>\n",
       "      <th>RWB</th>\n",
       "      <td>84</td>\n",
       "      <td>88</td>\n",
       "      <td>Reece James</td>\n",
       "      <td>Reece James</td>\n",
       "    </tr>\n",
       "    <tr>\n",
       "      <th>RB</th>\n",
       "      <td>85</td>\n",
       "      <td>87</td>\n",
       "      <td>Kyle Walker</td>\n",
       "      <td>Achraf Hakimi</td>\n",
       "    </tr>\n",
       "    <tr>\n",
       "      <th>CB</th>\n",
       "      <td>90</td>\n",
       "      <td>91</td>\n",
       "      <td>Virgil van Dijk</td>\n",
       "      <td>Rúben Santos Gato Alves Dias</td>\n",
       "    </tr>\n",
       "    <tr>\n",
       "      <th>LB</th>\n",
       "      <td>88</td>\n",
       "      <td>88</td>\n",
       "      <td>João Pedro Cavaco Cancelo</td>\n",
       "      <td>João Pedro Cavaco Cancelo, Nuno Alexandre Tava...</td>\n",
       "    </tr>\n",
       "    <tr>\n",
       "      <th>LWB</th>\n",
       "      <td>85</td>\n",
       "      <td>90</td>\n",
       "      <td>Theo Hernández</td>\n",
       "      <td>Theo Hernández</td>\n",
       "    </tr>\n",
       "    <tr>\n",
       "      <th>CDM</th>\n",
       "      <td>89</td>\n",
       "      <td>90</td>\n",
       "      <td>Carlos Henrique Venancio Casimiro, Joshua Kimm...</td>\n",
       "      <td>Joshua Kimmich, Sandro Tonali</td>\n",
       "    </tr>\n",
       "    <tr>\n",
       "      <th>CM</th>\n",
       "      <td>91</td>\n",
       "      <td>93</td>\n",
       "      <td>Kevin De Bruyne</td>\n",
       "      <td>Pedro González López</td>\n",
       "    </tr>\n",
       "    <tr>\n",
       "      <th>CAM</th>\n",
       "      <td>91</td>\n",
       "      <td>92</td>\n",
       "      <td>Lionel Messi</td>\n",
       "      <td>Phil Foden</td>\n",
       "    </tr>\n",
       "    <tr>\n",
       "      <th>RM</th>\n",
       "      <td>85</td>\n",
       "      <td>90</td>\n",
       "      <td>Serge Gnabry</td>\n",
       "      <td>Federico Chiesa</td>\n",
       "    </tr>\n",
       "    <tr>\n",
       "      <th>LM</th>\n",
       "      <td>89</td>\n",
       "      <td>89</td>\n",
       "      <td>Sadio Mané</td>\n",
       "      <td>Sadio Mané, Alphonso Davies, Bukayo Saka</td>\n",
       "    </tr>\n",
       "    <tr>\n",
       "      <th>RW</th>\n",
       "      <td>90</td>\n",
       "      <td>90</td>\n",
       "      <td>Mohamed Salah</td>\n",
       "      <td>Mohamed Salah</td>\n",
       "    </tr>\n",
       "    <tr>\n",
       "      <th>LW</th>\n",
       "      <td>89</td>\n",
       "      <td>92</td>\n",
       "      <td>Neymar da Silva Santos Jr., Heung Min Son</td>\n",
       "      <td>Vinícius José de Oliveira Júnior</td>\n",
       "    </tr>\n",
       "    <tr>\n",
       "      <th>CF</th>\n",
       "      <td>91</td>\n",
       "      <td>91</td>\n",
       "      <td>Karim Benzema</td>\n",
       "      <td>Karim Benzema</td>\n",
       "    </tr>\n",
       "    <tr>\n",
       "      <th>ST</th>\n",
       "      <td>91</td>\n",
       "      <td>95</td>\n",
       "      <td>Robert Lewandowski, Kylian Mbappé</td>\n",
       "      <td>Kylian Mbappé</td>\n",
       "    </tr>\n",
       "  </tbody>\n",
       "</table>\n",
       "</div>"
      ],
      "text/plain": [
       "               Overall  Potential  \\\n",
       "Best Position                       \n",
       "GK                  90         92   \n",
       "RWB                 84         88   \n",
       "RB                  85         87   \n",
       "CB                  90         91   \n",
       "LB                  88         88   \n",
       "LWB                 85         90   \n",
       "CDM                 89         90   \n",
       "CM                  91         93   \n",
       "CAM                 91         92   \n",
       "RM                  85         90   \n",
       "LM                  89         89   \n",
       "RW                  90         90   \n",
       "LW                  89         92   \n",
       "CF                  91         91   \n",
       "ST                  91         95   \n",
       "\n",
       "                                            Best Overall Players  \\\n",
       "Best Position                                                      \n",
       "GK                                Thibaut Courtois, Manuel Neuer   \n",
       "RWB                                                  Reece James   \n",
       "RB                                                   Kyle Walker   \n",
       "CB                                               Virgil van Dijk   \n",
       "LB                                     João Pedro Cavaco Cancelo   \n",
       "LWB                                               Theo Hernández   \n",
       "CDM            Carlos Henrique Venancio Casimiro, Joshua Kimm...   \n",
       "CM                                               Kevin De Bruyne   \n",
       "CAM                                                 Lionel Messi   \n",
       "RM                                                  Serge Gnabry   \n",
       "LM                                                    Sadio Mané   \n",
       "RW                                                 Mohamed Salah   \n",
       "LW                     Neymar da Silva Santos Jr., Heung Min Son   \n",
       "CF                                                 Karim Benzema   \n",
       "ST                             Robert Lewandowski, Kylian Mbappé   \n",
       "\n",
       "                                          Best Potential Players  \n",
       "Best Position                                                     \n",
       "GK                                          Gianluigi Donnarumma  \n",
       "RWB                                                  Reece James  \n",
       "RB                                                 Achraf Hakimi  \n",
       "CB                                  Rúben Santos Gato Alves Dias  \n",
       "LB             João Pedro Cavaco Cancelo, Nuno Alexandre Tava...  \n",
       "LWB                                               Theo Hernández  \n",
       "CDM                                Joshua Kimmich, Sandro Tonali  \n",
       "CM                                          Pedro González López  \n",
       "CAM                                                   Phil Foden  \n",
       "RM                                               Federico Chiesa  \n",
       "LM                      Sadio Mané, Alphonso Davies, Bukayo Saka  \n",
       "RW                                                 Mohamed Salah  \n",
       "LW                              Vinícius José de Oliveira Júnior  \n",
       "CF                                                 Karim Benzema  \n",
       "ST                                                 Kylian Mbappé  "
      ]
     },
     "execution_count": 414,
     "metadata": {},
     "output_type": "execute_result"
    }
   ],
   "source": [
    "specified_order = [\"GK\", \"RWB\", \"RB\", \"CB\", \"LB\", \"LWB\", \"CDM\", \"CM\", \"CAM\", \"RM\", \"LM\", \"RW\", \"LW\", \"CF\", \"ST\"]\n",
    "best_by_position = data.groupby(\"Best Position\")[[\"Overall\", \"Potential\"]].max().sort_index(key=lambda x: x.map({v: i for i, v in enumerate(specified_order)}))\n",
    "\n",
    "best_overall_by_post = []\n",
    "best_potential_by_post = []\n",
    "\n",
    "for ind, row in best_by_position.iterrows():\n",
    "    best_overall_by_post.append(\", \".join(data[(data[\"Overall\"] == row[\"Overall\"]) & (data[\"Best Position\"] == ind)][\"Full Name\"].tolist()))\n",
    "    best_potential_by_post.append(\", \".join(data[(data[\"Potential\"] == row[\"Potential\"]) & (data[\"Best Position\"] == ind)][\"Full Name\"].tolist()))\n",
    "\n",
    "best_by_position[\"Best Overall Players\"] = best_overall_by_post\n",
    "best_by_position[\"Best Potential Players\"] = best_potential_by_post\n",
    "\n",
    "best_by_position"
   ]
  },
  {
   "cell_type": "code",
   "execution_count": 415,
   "metadata": {},
   "outputs": [
    {
     "data": {
      "text/html": [
       "<div>\n",
       "<style scoped>\n",
       "    .dataframe tbody tr th:only-of-type {\n",
       "        vertical-align: middle;\n",
       "    }\n",
       "\n",
       "    .dataframe tbody tr th {\n",
       "        vertical-align: top;\n",
       "    }\n",
       "\n",
       "    .dataframe thead th {\n",
       "        text-align: right;\n",
       "    }\n",
       "</style>\n",
       "<table border=\"1\" class=\"dataframe\">\n",
       "  <thead>\n",
       "    <tr style=\"text-align: right;\">\n",
       "      <th></th>\n",
       "      <th>Overall</th>\n",
       "      <th>Potential</th>\n",
       "    </tr>\n",
       "    <tr>\n",
       "      <th>Club Name</th>\n",
       "      <th></th>\n",
       "      <th></th>\n",
       "    </tr>\n",
       "  </thead>\n",
       "  <tbody>\n",
       "    <tr>\n",
       "      <th>FC Bayern München</th>\n",
       "      <td>80.59</td>\n",
       "      <td>84.73</td>\n",
       "    </tr>\n",
       "    <tr>\n",
       "      <th>Paris Saint-Germain</th>\n",
       "      <td>79.81</td>\n",
       "      <td>84.23</td>\n",
       "    </tr>\n",
       "    <tr>\n",
       "      <th>Inter</th>\n",
       "      <td>79.73</td>\n",
       "      <td>82.65</td>\n",
       "    </tr>\n",
       "    <tr>\n",
       "      <th>Manchester City</th>\n",
       "      <td>79.31</td>\n",
       "      <td>84.42</td>\n",
       "    </tr>\n",
       "    <tr>\n",
       "      <th>Liverpool</th>\n",
       "      <td>78.67</td>\n",
       "      <td>83.60</td>\n",
       "    </tr>\n",
       "    <tr>\n",
       "      <th>Chelsea</th>\n",
       "      <td>78.34</td>\n",
       "      <td>84.14</td>\n",
       "    </tr>\n",
       "    <tr>\n",
       "      <th>AFC Richmond</th>\n",
       "      <td>78.11</td>\n",
       "      <td>80.05</td>\n",
       "    </tr>\n",
       "    <tr>\n",
       "      <th>Villarreal CF</th>\n",
       "      <td>78.08</td>\n",
       "      <td>81.08</td>\n",
       "    </tr>\n",
       "    <tr>\n",
       "      <th>RB Leipzig</th>\n",
       "      <td>77.71</td>\n",
       "      <td>81.92</td>\n",
       "    </tr>\n",
       "    <tr>\n",
       "      <th>Juventus</th>\n",
       "      <td>77.43</td>\n",
       "      <td>82.50</td>\n",
       "    </tr>\n",
       "  </tbody>\n",
       "</table>\n",
       "</div>"
      ],
      "text/plain": [
       "                     Overall  Potential\n",
       "Club Name                              \n",
       "FC Bayern München      80.59      84.73\n",
       "Paris Saint-Germain    79.81      84.23\n",
       "Inter                  79.73      82.65\n",
       "Manchester City        79.31      84.42\n",
       "Liverpool              78.67      83.60\n",
       "Chelsea                78.34      84.14\n",
       "AFC Richmond           78.11      80.05\n",
       "Villarreal CF          78.08      81.08\n",
       "RB Leipzig             77.71      81.92\n",
       "Juventus               77.43      82.50"
      ]
     },
     "execution_count": 415,
     "metadata": {},
     "output_type": "execute_result"
    }
   ],
   "source": [
    "data.groupby(\"Club Name\")[[\"Overall\", \"Potential\"]].mean().round(2).sort_values([\"Overall\", \"Potential\"], ascending= [False, False]).head(10)\n",
    "\n"
   ]
  },
  {
   "cell_type": "code",
   "execution_count": 416,
   "metadata": {},
   "outputs": [
    {
     "data": {
      "text/html": [
       "<div>\n",
       "<style scoped>\n",
       "    .dataframe tbody tr th:only-of-type {\n",
       "        vertical-align: middle;\n",
       "    }\n",
       "\n",
       "    .dataframe tbody tr th {\n",
       "        vertical-align: top;\n",
       "    }\n",
       "\n",
       "    .dataframe thead th {\n",
       "        text-align: right;\n",
       "    }\n",
       "</style>\n",
       "<table border=\"1\" class=\"dataframe\">\n",
       "  <thead>\n",
       "    <tr style=\"text-align: right;\">\n",
       "      <th></th>\n",
       "      <th>Full Name</th>\n",
       "      <th>Best Position</th>\n",
       "      <th>Nationality</th>\n",
       "      <th>Club Name</th>\n",
       "      <th>Age</th>\n",
       "      <th>Overall</th>\n",
       "      <th>Potential</th>\n",
       "      <th>delta_potential_overall</th>\n",
       "    </tr>\n",
       "  </thead>\n",
       "  <tbody>\n",
       "    <tr>\n",
       "      <th>11114</th>\n",
       "      <td>Carney Chukwuemeka</td>\n",
       "      <td>CAM</td>\n",
       "      <td>England</td>\n",
       "      <td>Chelsea</td>\n",
       "      <td>18</td>\n",
       "      <td>64</td>\n",
       "      <td>86</td>\n",
       "      <td>22</td>\n",
       "    </tr>\n",
       "    <tr>\n",
       "      <th>10334</th>\n",
       "      <td>Alejandro Garnacho Ferreyra</td>\n",
       "      <td>LW</td>\n",
       "      <td>Argentina</td>\n",
       "      <td>Manchester United</td>\n",
       "      <td>18</td>\n",
       "      <td>64</td>\n",
       "      <td>85</td>\n",
       "      <td>21</td>\n",
       "    </tr>\n",
       "    <tr>\n",
       "      <th>10488</th>\n",
       "      <td>Mika Godts</td>\n",
       "      <td>CAM</td>\n",
       "      <td>Belgium</td>\n",
       "      <td>KRC Genk</td>\n",
       "      <td>17</td>\n",
       "      <td>64</td>\n",
       "      <td>85</td>\n",
       "      <td>21</td>\n",
       "    </tr>\n",
       "    <tr>\n",
       "      <th>11010</th>\n",
       "      <td>Charlie Patino</td>\n",
       "      <td>CM</td>\n",
       "      <td>England</td>\n",
       "      <td>Blackpool</td>\n",
       "      <td>18</td>\n",
       "      <td>64</td>\n",
       "      <td>85</td>\n",
       "      <td>21</td>\n",
       "    </tr>\n",
       "    <tr>\n",
       "      <th>6645</th>\n",
       "      <td>Antonio Nusa</td>\n",
       "      <td>LW</td>\n",
       "      <td>Norway</td>\n",
       "      <td>Club Brugge KV</td>\n",
       "      <td>17</td>\n",
       "      <td>68</td>\n",
       "      <td>88</td>\n",
       "      <td>20</td>\n",
       "    </tr>\n",
       "    <tr>\n",
       "      <th>6997</th>\n",
       "      <td>Jamie Bynoe-Gittens</td>\n",
       "      <td>RM</td>\n",
       "      <td>England</td>\n",
       "      <td>Borussia Dortmund</td>\n",
       "      <td>17</td>\n",
       "      <td>67</td>\n",
       "      <td>87</td>\n",
       "      <td>20</td>\n",
       "    </tr>\n",
       "    <tr>\n",
       "      <th>8306</th>\n",
       "      <td>António João Tavares Silva</td>\n",
       "      <td>CB</td>\n",
       "      <td>Portugal</td>\n",
       "      <td>SL Benfica</td>\n",
       "      <td>18</td>\n",
       "      <td>66</td>\n",
       "      <td>86</td>\n",
       "      <td>20</td>\n",
       "    </tr>\n",
       "    <tr>\n",
       "      <th>8381</th>\n",
       "      <td>Kayky da Silva Chagas</td>\n",
       "      <td>LM</td>\n",
       "      <td>Brazil</td>\n",
       "      <td>FC Paços de Ferreira</td>\n",
       "      <td>19</td>\n",
       "      <td>66</td>\n",
       "      <td>86</td>\n",
       "      <td>20</td>\n",
       "    </tr>\n",
       "    <tr>\n",
       "      <th>9331</th>\n",
       "      <td>Marko Lazetić</td>\n",
       "      <td>ST</td>\n",
       "      <td>Serbia</td>\n",
       "      <td>AC Milan</td>\n",
       "      <td>18</td>\n",
       "      <td>65</td>\n",
       "      <td>85</td>\n",
       "      <td>20</td>\n",
       "    </tr>\n",
       "    <tr>\n",
       "      <th>9354</th>\n",
       "      <td>Dane Scarlett</td>\n",
       "      <td>ST</td>\n",
       "      <td>England</td>\n",
       "      <td>Portsmouth</td>\n",
       "      <td>18</td>\n",
       "      <td>65</td>\n",
       "      <td>85</td>\n",
       "      <td>20</td>\n",
       "    </tr>\n",
       "  </tbody>\n",
       "</table>\n",
       "</div>"
      ],
      "text/plain": [
       "                         Full Name Best Position Nationality  \\\n",
       "11114           Carney Chukwuemeka           CAM     England   \n",
       "10334  Alejandro Garnacho Ferreyra            LW   Argentina   \n",
       "10488                   Mika Godts           CAM     Belgium   \n",
       "11010               Charlie Patino            CM     England   \n",
       "6645                  Antonio Nusa            LW      Norway   \n",
       "6997           Jamie Bynoe-Gittens            RM     England   \n",
       "8306    António João Tavares Silva            CB    Portugal   \n",
       "8381         Kayky da Silva Chagas            LM      Brazil   \n",
       "9331                 Marko Lazetić            ST      Serbia   \n",
       "9354                 Dane Scarlett            ST     England   \n",
       "\n",
       "                  Club Name  Age  Overall  Potential  delta_potential_overall  \n",
       "11114               Chelsea   18       64         86                       22  \n",
       "10334     Manchester United   18       64         85                       21  \n",
       "10488              KRC Genk   17       64         85                       21  \n",
       "11010             Blackpool   18       64         85                       21  \n",
       "6645         Club Brugge KV   17       68         88                       20  \n",
       "6997      Borussia Dortmund   17       67         87                       20  \n",
       "8306             SL Benfica   18       66         86                       20  \n",
       "8381   FC Paços de Ferreira   19       66         86                       20  \n",
       "9331               AC Milan   18       65         85                       20  \n",
       "9354             Portsmouth   18       65         85                       20  "
      ]
     },
     "execution_count": 416,
     "metadata": {},
     "output_type": "execute_result"
    }
   ],
   "source": [
    "data[\"delta_potential_overall\"] = data[\"Potential\"] - data[\"Overall\"]\n",
    "data[data[\"Potential\"] >= 85][[\"Full Name\", \"Best Position\", \"Nationality\", \"Club Name\", \"Age\", \"Overall\", \"Potential\",\"delta_potential_overall\"]].sort_values([\"delta_potential_overall\", 'Potential'], ascending= [False, False]).head(10)"
   ]
  },
  {
   "cell_type": "code",
   "execution_count": 417,
   "metadata": {},
   "outputs": [
    {
     "data": {
      "image/png": "[encoded data removed]",
      "text/plain": [
       "<Figure size 432x288 with 1 Axes>"
      ]
     },
     "metadata": {
      "needs_background": "light"
     },
     "output_type": "display_data"
    }
   ],
   "source": [
    "plt.hist(data[data[\"Preferred Foot\"] == \"Right\"][\"Overall\"], bins = 20, density= True, alpha = 0.7)\n",
    "plt.hist(data[data[\"Preferred Foot\"] == \"Left\"][\"Overall\"], bins = 20, density= True, alpha = 0.7)\n",
    "\n",
    "plt.ylabel(\"Percentage\")\n",
    "plt.legend([\"Right\", \"Left\"])\n",
    "plt.title(\"Distribution of Overall Ratings by Preferred Foot\")\n",
    "\n",
    "plt.show()"
   ]
  },
  {
   "cell_type": "code",
   "execution_count": 418,
   "metadata": {},
   "outputs": [
    {
     "data": {
      "image/png": "[encoded data removed]",
      "text/plain": [
       "<Figure size 432x288 with 1 Axes>"
      ]
     },
     "metadata": {
      "needs_background": "light"
     },
     "output_type": "display_data"
    }
   ],
   "source": [
    "plt.hist(data[data[\"Preferred Foot\"] == \"Right\"][\"Potential\"], bins = 20, density= True, alpha = 0.7)\n",
    "plt.hist(data[data[\"Preferred Foot\"] == \"Left\"][\"Potential\"], bins = 20, density= True, alpha = 0.7)\n",
    "\n",
    "plt.ylabel(\"Percentage\")\n",
    "plt.title(\"Distribution of Potential Ratings by Preferred Foot\")\n",
    "plt.legend([\"Right\", \"Left\"])\n",
    "\n",
    "plt.show()"
   ]
  },
  {
   "cell_type": "code",
   "execution_count": 419,
   "metadata": {},
   "outputs": [
    {
     "data": {
      "image/png": "[encoded data removed]",
      "text/plain": [
       "<Figure size 432x288 with 1 Axes>"
      ]
     },
     "metadata": {
      "needs_background": "light"
     },
     "output_type": "display_data"
    }
   ],
   "source": [
    "oldest = data[\"Age\"].max()\n",
    "youngest = data[\"Age\"].min()\n",
    "players_oldest = '\\n'.join(data[data[\"Age\"] == oldest][\"Full Name\"].tolist())\n",
    "\n",
    "plt.hist(data[\"Age\"], bins = oldest - youngest)\n",
    "plt.xlabel(\"Age\")\n",
    "plt.ylabel(\"Frequency\")\n",
    "plt.title(\"Distribution of Age\")\n",
    "plt.annotate(players_oldest, xy = (oldest, 0), xytext = (oldest, 300), arrowprops=dict(facecolor = 'green'))\n",
    "\n",
    "plt.show()\n"
   ]
  },
  {
   "cell_type": "code",
   "execution_count": 420,
   "metadata": {},
   "outputs": [
    {
     "data": {
      "image/png": "[encoded data removed]",
      "text/plain": [
       "<Figure size 720x720 with 1 Axes>"
      ]
     },
     "metadata": {
      "needs_background": "light"
     },
     "output_type": "display_data"
    }
   ],
   "source": [
    "nationality_counts = data['Nationality'].value_counts()\n",
    "\n",
    "top_countries = 50  \n",
    "top_nationalities = nationality_counts.head(top_countries)\n",
    "\n",
    "fig = plt.figure(figsize=(10, 10))\n",
    "ax = fig.add_subplot(111)\n",
    "\n",
    "sizes = nationality_counts.values\n",
    "labels = ['' if nationality not in top_nationalities.index else nationality for nationality in nationality_counts.index]\n",
    "\n",
    "treemap = squarify.plot(sizes=sizes, label=labels, ax=ax, alpha=0.8, edgecolor='white')\n",
    "\n",
    "ax.set_title('Total Players by Country')\n",
    "\n",
    "for text in treemap.texts:\n",
    "    for i, nationality in enumerate(labels):\n",
    "        if text.get_text() == nationality:\n",
    "            text.set_fontsize(sizes[i] * 0.02)  \n",
    "\n",
    "plt.axis('off')\n",
    "\n",
    "plt.show()\n"
   ]
  },
  {
   "cell_type": "code",
   "execution_count": 421,
   "metadata": {},
   "outputs": [
    {
     "name": "stdout",
     "output_type": "stream",
     "text": [
      "Correlation between Overall and Wage:  0.6016491356433196\n"
     ]
    }
   ],
   "source": [
    "correlation = data[\"Overall\"].corr(data[\"Wage(in Euro)\"])\n",
    "print(\"Correlation between Overall and Wage: \", correlation)"
   ]
  },
  {
   "cell_type": "code",
   "execution_count": 422,
   "metadata": {},
   "outputs": [
    {
     "data": {
      "image/png": "[encoded data removed]",
      "text/plain": [
       "<Figure size 432x288 with 1 Axes>"
      ]
     },
     "metadata": {
      "needs_background": "light"
     },
     "output_type": "display_data"
    }
   ],
   "source": [
    "data[\"bmi\"] = data[\"Weight(in kg)\"] / (data['Height(in cm)']/100)**2\n",
    "\n",
    "plt.hist(data[\"bmi\"], bins = 20)\n",
    "plt.title(\"Distribution of BMI Index\")\n",
    "\n",
    "plt.show()"
   ]
  },
  {
   "cell_type": "code",
   "execution_count": 423,
   "metadata": {},
   "outputs": [
    {
     "data": {
      "text/html": [
       "<div>\n",
       "<style scoped>\n",
       "    .dataframe tbody tr th:only-of-type {\n",
       "        vertical-align: middle;\n",
       "    }\n",
       "\n",
       "    .dataframe tbody tr th {\n",
       "        vertical-align: top;\n",
       "    }\n",
       "\n",
       "    .dataframe thead th {\n",
       "        text-align: right;\n",
       "    }\n",
       "</style>\n",
       "<table border=\"1\" class=\"dataframe\">\n",
       "  <thead>\n",
       "    <tr style=\"text-align: right;\">\n",
       "      <th></th>\n",
       "      <th>Overall</th>\n",
       "      <th>Potential</th>\n",
       "      <th>Value(in million Euro)</th>\n",
       "      <th>Wage(in thousand Euro)</th>\n",
       "      <th>Age</th>\n",
       "      <th>Height(in cm)</th>\n",
       "      <th>Weight(in kg)</th>\n",
       "      <th>Skill Moves</th>\n",
       "      <th>right_preferred_foot</th>\n",
       "    </tr>\n",
       "  </thead>\n",
       "  <tbody>\n",
       "    <tr>\n",
       "      <th>Overall</th>\n",
       "      <td>1.000000</td>\n",
       "      <td>0.662410</td>\n",
       "      <td>0.068684</td>\n",
       "      <td>0.116174</td>\n",
       "      <td>0.446341</td>\n",
       "      <td>0.030687</td>\n",
       "      <td>0.131519</td>\n",
       "      <td>0.361619</td>\n",
       "      <td>-0.043788</td>\n",
       "    </tr>\n",
       "    <tr>\n",
       "      <th>Potential</th>\n",
       "      <td>0.662410</td>\n",
       "      <td>1.000000</td>\n",
       "      <td>0.038182</td>\n",
       "      <td>0.078242</td>\n",
       "      <td>-0.257565</td>\n",
       "      <td>0.016997</td>\n",
       "      <td>-0.002569</td>\n",
       "      <td>0.271960</td>\n",
       "      <td>-0.040739</td>\n",
       "    </tr>\n",
       "    <tr>\n",
       "      <th>Value(in million Euro)</th>\n",
       "      <td>0.068684</td>\n",
       "      <td>0.038182</td>\n",
       "      <td>1.000000</td>\n",
       "      <td>0.932269</td>\n",
       "      <td>0.061765</td>\n",
       "      <td>0.007118</td>\n",
       "      <td>0.008372</td>\n",
       "      <td>0.010051</td>\n",
       "      <td>0.009469</td>\n",
       "    </tr>\n",
       "    <tr>\n",
       "      <th>Wage(in thousand Euro)</th>\n",
       "      <td>0.116174</td>\n",
       "      <td>0.078242</td>\n",
       "      <td>0.932269</td>\n",
       "      <td>1.000000</td>\n",
       "      <td>0.053297</td>\n",
       "      <td>0.008280</td>\n",
       "      <td>0.006538</td>\n",
       "      <td>0.025417</td>\n",
       "      <td>0.005293</td>\n",
       "    </tr>\n",
       "    <tr>\n",
       "      <th>Age</th>\n",
       "      <td>0.446341</td>\n",
       "      <td>-0.257565</td>\n",
       "      <td>0.061765</td>\n",
       "      <td>0.053297</td>\n",
       "      <td>1.000000</td>\n",
       "      <td>0.065159</td>\n",
       "      <td>0.217014</td>\n",
       "      <td>0.066645</td>\n",
       "      <td>0.012158</td>\n",
       "    </tr>\n",
       "    <tr>\n",
       "      <th>Height(in cm)</th>\n",
       "      <td>0.030687</td>\n",
       "      <td>0.016997</td>\n",
       "      <td>0.007118</td>\n",
       "      <td>0.008280</td>\n",
       "      <td>0.065159</td>\n",
       "      <td>1.000000</td>\n",
       "      <td>0.756792</td>\n",
       "      <td>-0.433851</td>\n",
       "      <td>0.075197</td>\n",
       "    </tr>\n",
       "    <tr>\n",
       "      <th>Weight(in kg)</th>\n",
       "      <td>0.131519</td>\n",
       "      <td>-0.002569</td>\n",
       "      <td>0.008372</td>\n",
       "      <td>0.006538</td>\n",
       "      <td>0.217014</td>\n",
       "      <td>0.756792</td>\n",
       "      <td>1.000000</td>\n",
       "      <td>-0.355282</td>\n",
       "      <td>0.080365</td>\n",
       "    </tr>\n",
       "    <tr>\n",
       "      <th>Skill Moves</th>\n",
       "      <td>0.361619</td>\n",
       "      <td>0.271960</td>\n",
       "      <td>0.010051</td>\n",
       "      <td>0.025417</td>\n",
       "      <td>0.066645</td>\n",
       "      <td>-0.433851</td>\n",
       "      <td>-0.355282</td>\n",
       "      <td>1.000000</td>\n",
       "      <td>-0.084897</td>\n",
       "    </tr>\n",
       "    <tr>\n",
       "      <th>right_preferred_foot</th>\n",
       "      <td>-0.043788</td>\n",
       "      <td>-0.040739</td>\n",
       "      <td>0.009469</td>\n",
       "      <td>0.005293</td>\n",
       "      <td>0.012158</td>\n",
       "      <td>0.075197</td>\n",
       "      <td>0.080365</td>\n",
       "      <td>-0.084897</td>\n",
       "      <td>1.000000</td>\n",
       "    </tr>\n",
       "  </tbody>\n",
       "</table>\n",
       "</div>"
      ],
      "text/plain": [
       "                         Overall  Potential  Value(in million Euro)  \\\n",
       "Overall                 1.000000   0.662410                0.068684   \n",
       "Potential               0.662410   1.000000                0.038182   \n",
       "Value(in million Euro)  0.068684   0.038182                1.000000   \n",
       "Wage(in thousand Euro)  0.116174   0.078242                0.932269   \n",
       "Age                     0.446341  -0.257565                0.061765   \n",
       "Height(in cm)           0.030687   0.016997                0.007118   \n",
       "Weight(in kg)           0.131519  -0.002569                0.008372   \n",
       "Skill Moves             0.361619   0.271960                0.010051   \n",
       "right_preferred_foot   -0.043788  -0.040739                0.009469   \n",
       "\n",
       "                        Wage(in thousand Euro)       Age  Height(in cm)  \\\n",
       "Overall                               0.116174  0.446341       0.030687   \n",
       "Potential                             0.078242 -0.257565       0.016997   \n",
       "Value(in million Euro)                0.932269  0.061765       0.007118   \n",
       "Wage(in thousand Euro)                1.000000  0.053297       0.008280   \n",
       "Age                                   0.053297  1.000000       0.065159   \n",
       "Height(in cm)                         0.008280  0.065159       1.000000   \n",
       "Weight(in kg)                         0.006538  0.217014       0.756792   \n",
       "Skill Moves                           0.025417  0.066645      -0.433851   \n",
       "right_preferred_foot                  0.005293  0.012158       0.075197   \n",
       "\n",
       "                        Weight(in kg)  Skill Moves  right_preferred_foot  \n",
       "Overall                      0.131519     0.361619             -0.043788  \n",
       "Potential                   -0.002569     0.271960             -0.040739  \n",
       "Value(in million Euro)       0.008372     0.010051              0.009469  \n",
       "Wage(in thousand Euro)       0.006538     0.025417              0.005293  \n",
       "Age                          0.217014     0.066645              0.012158  \n",
       "Height(in cm)                0.756792    -0.433851              0.075197  \n",
       "Weight(in kg)                1.000000    -0.355282              0.080365  \n",
       "Skill Moves                 -0.355282     1.000000             -0.084897  \n",
       "right_preferred_foot         0.080365    -0.084897              1.000000  "
      ]
     },
     "execution_count": 423,
     "metadata": {},
     "output_type": "execute_result"
    }
   ],
   "source": [
    "data[\"right_preferred_foot\"] = (data[\"Preferred Foot\"] == \"Right\").astype(int)\n",
    "data[[\"Overall\", \"Potential\", \"Value(in million Euro)\", \"Wage(in thousand Euro)\", \"Age\", \"Height(in cm)\", \"Weight(in kg)\", \"Skill Moves\", \"right_preferred_foot\"]].corr()"
   ]
  }
 ],
 "metadata": {
  "kernelspec": {
   "display_name": "Python 3 (ipykernel)",
   "language": "python",
   "name": "python3"
  },
  "language_info": {
   "codemirror_mode": {
    "name": "ipython",
    "version": 3
   },
   "file_extension": ".py",
   "mimetype": "text/x-python",
   "name": "python",
   "nbconvert_exporter": "python",
   "pygments_lexer": "ipython3",
   "version": "3.9.12"
  }
 },
 "nbformat": 4,
 "nbformat_minor": 2
}
